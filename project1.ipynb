{
 "cells": [
  {
   "cell_type": "code",
   "execution_count": null,
   "metadata": {
    "ExecuteTime": {
     "start_time": "2020-03-11T01:24:02.649Z"
    }
   },
   "outputs": [
    {
     "name": "stdout",
     "output_type": "stream",
     "text": [
      "How many games you want to play2\n",
      "Pick a Number12\n",
      "You guessed higher\n",
      "Pick a Number9\n",
      "You guessed higher\n",
      "Pick a Number3\n",
      "You guessed lower\n",
      "Pick a Number5\n",
      "You guessed higher\n",
      "Pick a Number4\n",
      "Correct! It took you these many guesses : 4\n"
     ]
    }
   ],
   "source": [
    "import random\n",
    "games =''\n",
    "while games=='':\n",
    " try:\n",
    "     games = int(input(\"How many games you want to play\"))\n",
    " except:\n",
    "     print(\"Please select using a number\")\n",
    "\n",
    "for game in range(0,games):\n",
    "    pick = random.randint(1,26)\n",
    "    guess = None\n",
    "    attempts = 0\n",
    "    \n",
    "    while pick!= guess:\n",
    "        try:\n",
    "            guess=int(input(\"Pick a Number\"))\n",
    "        except:\n",
    "            print(\"Please enter a number\")\n",
    "            continue;\n",
    "        if(guess!=pick):\n",
    "            attempts+=1\n",
    "            if(guess>pick):\n",
    "                print(\"You guessed higher\")\n",
    "            else:\n",
    "                 print(\"You guessed lower\")\n",
    "        else:\n",
    "            print(\"Correct! It took you these many guesses : %s\" % attempts )\n",
    "   "
   ]
  },
  {
   "cell_type": "code",
   "execution_count": null,
   "metadata": {},
   "outputs": [],
   "source": []
  }
 ],
 "metadata": {
  "kernelspec": {
   "display_name": "Python 3",
   "language": "python",
   "name": "python3"
  },
  "language_info": {
   "codemirror_mode": {
    "name": "ipython",
    "version": 3
   },
   "file_extension": ".py",
   "mimetype": "text/x-python",
   "name": "python",
   "nbconvert_exporter": "python",
   "pygments_lexer": "ipython3",
   "version": "3.7.5"
  }
 },
 "nbformat": 4,
 "nbformat_minor": 2
}
